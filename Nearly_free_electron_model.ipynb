{
 "cells": [
  {
   "cell_type": "markdown",
   "id": "576adf5d",
   "metadata": {},
   "source": [
    "# Nearly free electron model\n"
   ]
  },
  {
   "cell_type": "code",
   "execution_count": 1,
   "id": "8f53a929",
   "metadata": {},
   "outputs": [],
   "source": [
    "import matplotlib.pyplot as plt\n",
    "import numpy as np\n",
    "import math\n",
    "\n",
    "a = math.pi #lattice constant -- defining this lattice constant, g = 2*pi/a = 2\n",
    "ks = np.arange(-10.0, 10.1, 0.01)\n"
   ]
  },
  {
   "cell_type": "code",
   "execution_count": 2,
   "id": "8f9e382c",
   "metadata": {},
   "outputs": [],
   "source": [
    "def fE1(k):\n",
    "    g= 2*math.pi/a\n",
    "    Uck = 0\n",
    "    E1 = Uck +(k+2*g)**2\n",
    "    return(E1)\n",
    "def fE2(k):\n",
    "    g= 2*math.pi/a\n",
    "    Uck_g = 0\n",
    "    E2 = Uck_g +(k)**2\n",
    "    return(E2)\n",
    "def fE3(k):\n",
    "    g= 2*math.pi/a\n",
    "    Uck__g = 0\n",
    "    E3 = Uck__g +(k+g)**2\n",
    "    return(E3)"
   ]
  },
  {
   "cell_type": "code",
   "execution_count": 3,
   "id": "2fac8f44",
   "metadata": {},
   "outputs": [],
   "source": [
    "def fE4(k):\n",
    "    ur=.2\n",
    "    E4 = (fE2(k)+fE3(k))/2 + (0.25*(fE2(k)-fE3(k))**2+ ur**2)**0.5\n",
    "    return(E4)\n",
    "def fE5(k):\n",
    "    ur=.2\n",
    "    E5 = (fE2(k)+fE3(k))/2 - (0.25*(fE2(k)-fE3(k))**2+ ur**2)**0.5\n",
    "    return(E5)\n",
    "def fE6(k):\n",
    "    ur_2=.2\n",
    "    E6 = (fE2(k)+fE1(k))/2 + (0.25*(fE2(k)-fE1(k))**2+ ur_2**2)**0.5\n",
    "    return(E6)\n",
    "def fE7(k):\n",
    "    ur_2=.2\n",
    "    E7 = (fE2(k)+fE1(k))/2 - (0.25*(fE2(k)-fE1(k))**2+ ur_2**2)**0.5\n",
    "    return(E7)\n",
    "    "
   ]
  },
  {
   "cell_type": "code",
   "execution_count": 10,
   "id": "6b7da329",
   "metadata": {},
   "outputs": [
    {
     "data": {
      "text/plain": [
       "(-2.0, 2.0)"
      ]
     },
     "execution_count": 10,
     "metadata": {},
     "output_type": "execute_result"
    },
    {
     "data": {
      "image/png": "[encoded data removed]",
      "text/plain": [
       "<Figure size 432x288 with 1 Axes>"
      ]
     },
     "metadata": {
      "needs_background": "light"
     },
     "output_type": "display_data"
    }
   ],
   "source": [
    "ks_ = np.arange(0.0,2.1,0.1)\n",
    "ks_1 = np.arange(-2.0,0.1,0.1)\n",
    "ks_2 = np.arange(-1.0,0.1,0.1)\n",
    "ks_3 = np.arange(0.0,1.1,0.1)\n",
    "ks_7= np.arange(0.5,1.6,0.1)\n",
    "ks_8= np.arange(-1.5,-0.4,0.1)\n",
    "ks_4= np.arange(-2.0,-1.4,0.1)\n",
    "ks_6= np.arange(1.5,2.6,0.1)\n",
    "ks_5= np.arange(-0.5,0.6,0.1)\n",
    "\n",
    "plt.plot(ks, fE6(ks-4), linestyle= 'dashed', color = 'black')\n",
    "plt.plot(ks_5, fE7(ks_5-4), linestyle= 'dashed', color = 'black')\n",
    "plt.plot(ks, fE6(ks), linestyle= 'dashed', color = 'black')\n",
    "plt.plot(ks_4, fE7(ks_4), linestyle= 'dashed', color = 'black')\n",
    "plt.plot(ks_5, fE7(ks_5-2), linestyle= 'dashed', color = 'black')\n",
    "plt.plot(ks, fE6(ks-2), linestyle= 'dashed', color = 'black')\n",
    "plt.plot(ks_6, fE7(ks_6-4),linestyle= 'dashed', color = 'black')\n",
    "plt.plot(ks_8, fE4(ks_8), linestyle= 'dashed', color = 'black') \n",
    "plt.plot(ks_1, fE5(ks_1), linestyle= 'dashed', color = 'black') \n",
    "plt.plot(ks_, fE5(ks_-2), linestyle= 'dashed', color = 'black')\n",
    "plt.plot(ks_7, fE4(ks_7-2), linestyle= 'dashed', color = 'black')\n",
    "\n",
    "x =[-2,-1,0,1,2]\n",
    "labels1 =['-K','$-\\pi/a$', '0','$\\pi/a$', 'K']\n",
    "plt.xticks(x, labels1)\n",
    "\n",
    "plt.ylim((0, 9))\n",
    "plt.xlim((-2, 2))"
   ]
  },
  {
   "cell_type": "code",
   "execution_count": null,
   "id": "df083274",
   "metadata": {},
   "outputs": [],
   "source": []
  },
  {
   "cell_type": "code",
   "execution_count": null,
   "id": "53138d09",
   "metadata": {},
   "outputs": [],
   "source": []
  }
 ],
 "metadata": {
  "kernelspec": {
   "display_name": "Python 3 (ipykernel)",
   "language": "python",
   "name": "python3"
  },
  "language_info": {
   "codemirror_mode": {
    "name": "ipython",
    "version": 3
   },
   "file_extension": ".py",
   "mimetype": "text/x-python",
   "name": "python",
   "nbconvert_exporter": "python",
   "pygments_lexer": "ipython3",
   "version": "3.9.5"
  }
 },
 "nbformat": 4,
 "nbformat_minor": 5
}
